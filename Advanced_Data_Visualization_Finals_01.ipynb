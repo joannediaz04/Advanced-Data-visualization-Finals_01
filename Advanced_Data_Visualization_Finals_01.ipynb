{
  "nbformat": 4,
  "nbformat_minor": 0,
  "metadata": {
    "colab": {
      "provenance": [],
      "authorship_tag": "ABX9TyNSMXsTW6+pp83n6gFdhAOt",
      "include_colab_link": true
    },
    "kernelspec": {
      "name": "python3",
      "display_name": "Python 3"
    },
    "language_info": {
      "name": "python"
    }
  },
  "cells": [
    {
      "cell_type": "markdown",
      "metadata": {
        "id": "view-in-github",
        "colab_type": "text"
      },
      "source": [
        "<a href=\"https://colab.research.google.com/github/joannediaz04/Advanced-Data-visualization-Finals_01/blob/main/Advanced_Data_Visualization_Finals_01.ipynb\" target=\"_parent\"><img src=\"https://colab.research.google.com/assets/colab-badge.svg\" alt=\"Open In Colab\"/></a>"
      ]
    },
    {
      "cell_type": "code",
      "execution_count": null,
      "metadata": {
        "id": "1DctU23rIdb5",
        "colab": {
          "base_uri": "https://localhost:8080/"
        },
        "outputId": "b6808486-09c0-42cd-f482-e6746b40c057"
      },
      "outputs": [
        {
          "output_type": "stream",
          "name": "stdout",
          "text": [
            "J\n",
            "O\n",
            "A\n",
            "N\n",
            "N\n",
            "E\n"
          ]
        }
      ],
      "source": [
        "myName = \"JOANNE\" \n",
        "for x in myName: \n",
        "  print(x)"
      ]
    },
    {
      "cell_type": "code",
      "source": [
        "for x in range(6):\n",
        " print(x)\n",
        "else:\n",
        " print(\"Finally finished!\")"
      ],
      "metadata": {
        "colab": {
          "base_uri": "https://localhost:8080/"
        },
        "id": "4LQhfFgiJcuw",
        "outputId": "6de2e123-898c-4d02-a78a-17ddc3edfa1e"
      },
      "execution_count": null,
      "outputs": [
        {
          "output_type": "stream",
          "name": "stdout",
          "text": [
            "0\n",
            "1\n",
            "2\n",
            "3\n",
            "4\n",
            "5\n",
            "Finally finished!\n"
          ]
        }
      ]
    },
    {
      "cell_type": "code",
      "source": [
        "thislist = [\"Top\", \"bottom\", \"victory\"]\n",
        "for x in thislist:\n",
        " print(x)"
      ],
      "metadata": {
        "colab": {
          "base_uri": "https://localhost:8080/"
        },
        "id": "NH_bFDP1JhZZ",
        "outputId": "17a51b10-6c8a-487d-91ac-1b3e9f7e12b2"
      },
      "execution_count": null,
      "outputs": [
        {
          "output_type": "stream",
          "name": "stdout",
          "text": [
            "Top\n",
            "bottom\n",
            "victory\n"
          ]
        }
      ]
    },
    {
      "cell_type": "code",
      "source": [
        "list(range(0,10))\n",
        "[0, 1, 2, 3, 4, 5, 6, 7, 8, 9]"
      ],
      "metadata": {
        "colab": {
          "base_uri": "https://localhost:8080/"
        },
        "id": "UOVTdV6MJjpH",
        "outputId": "e858ea78-57b4-48ff-9562-1bc2886d97ef"
      },
      "execution_count": null,
      "outputs": [
        {
          "output_type": "execute_result",
          "data": {
            "text/plain": [
              "[0, 1, 2, 3, 4, 5, 6, 7, 8, 9]"
            ]
          },
          "metadata": {},
          "execution_count": 4
        }
      ]
    },
    {
      "cell_type": "code",
      "source": [
        "dataAnalyticsTools = ['Python', 'R', 'SQL', 'Git'] \n",
        "for i in range(len(dataAnalyticsTools)): \n",
        " print(dataAnalyticsTools [ i ])"
      ],
      "metadata": {
        "id": "NlnhsCv8JnJX",
        "outputId": "2f9c1256-add9-4f54-8023-dadc0d323da3",
        "colab": {
          "base_uri": "https://localhost:8080/"
        }
      },
      "execution_count": null,
      "outputs": [
        {
          "output_type": "stream",
          "name": "stdout",
          "text": [
            "Python\n",
            "R\n",
            "SQL\n",
            "Git\n"
          ]
        }
      ]
    }
  ]
}